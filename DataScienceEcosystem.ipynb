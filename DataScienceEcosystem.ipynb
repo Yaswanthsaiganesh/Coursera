{
 "cells": [
  {
   "cell_type": "markdown",
   "id": "0d87e560-7678-4823-9396-523a05f0ab44",
   "metadata": {},
   "source": [
    "# H1: Data Science Tools and Ecosystem"
   ]
  },
  {
   "cell_type": "markdown",
   "id": "2eeff1e5-c7d4-48c8-ab2d-25cce14dedc1",
   "metadata": {
    "tags": []
   },
   "source": [
    "__In this notebook, Data science Tools and Ecosystem are summarized.__"
   ]
  },
  {
   "cell_type": "markdown",
   "id": "ba643156-0d47-4b48-bdf6-02b123f7f8b0",
   "metadata": {
    "tags": []
   },
   "source": [
    "__Objectives:__\n",
    "- List popular languages for Data Science.\n",
    "- List popular libraries for Data Science.\n",
    "- List Popular Data Science Tools.\n",
    "- List few examples of evaluating arithmetic expressions in Python."
   ]
  },
  {
   "cell_type": "markdown",
   "id": "c443d706-26fe-47d2-abf8-0ce898421f08",
   "metadata": {
    "tags": []
   },
   "source": [
    "_Some of the popular languages that Data Scientists use include :_\n",
    "1. Python\n",
    "2. Java\n",
    "3. R\n",
    "4. SQL"
   ]
  },
  {
   "cell_type": "markdown",
   "id": "b220a8e2-b206-466e-8ccd-41f05ccbc312",
   "metadata": {
    "tags": []
   },
   "source": [
    "_Some of the commonly used libraries used by Data Scientists include:_\n",
    "1. Pandas\n",
    "2. Numpy\n",
    "3. Scipy\n",
    "4. Matpltlib"
   ]
  },
  {
   "cell_type": "markdown",
   "id": "25654e63-8b44-45ea-83f3-2359c5ff103c",
   "metadata": {},
   "source": [
    "| Data Science Tools |\n",
    "| ------------------ |\n",
    "| RStudio |\n",
    "| Apache Spark |\n",
    "| TensorFlow |"
   ]
  },
  {
   "cell_type": "markdown",
   "id": "c40cfb03-61a4-4a81-8ed5-0520b2071f64",
   "metadata": {
    "tags": []
   },
   "source": [
    "### Below are a few examples of evaluating arithmetic expressions in Python."
   ]
  },
  {
   "cell_type": "code",
   "execution_count": 15,
   "id": "22ab177c-34ea-48bc-bb08-8c6dcfd0957a",
   "metadata": {
    "tags": []
   },
   "outputs": [
    {
     "data": {
      "text/plain": [
       "5"
      ]
     },
     "execution_count": 15,
     "metadata": {},
     "output_type": "execute_result"
    }
   ],
   "source": [
    "# Addition operation\n",
    "2+3"
   ]
  },
  {
   "cell_type": "code",
   "execution_count": 17,
   "id": "108ba05f-6f29-48ed-a9a0-1f4e330ac035",
   "metadata": {
    "tags": []
   },
   "outputs": [
    {
     "data": {
      "text/plain": [
       "6"
      ]
     },
     "execution_count": 17,
     "metadata": {},
     "output_type": "execute_result"
    }
   ],
   "source": [
    "# Multiplication operation\n",
    "2*3"
   ]
  },
  {
   "cell_type": "code",
   "execution_count": 19,
   "id": "612df665-592a-4aa5-8fe3-366d3a99b55e",
   "metadata": {
    "tags": []
   },
   "outputs": [
    {
     "data": {
      "text/plain": [
       "17"
      ]
     },
     "execution_count": 19,
     "metadata": {},
     "output_type": "execute_result"
    }
   ],
   "source": [
    "# This a simple arithmetic expression to mutiply then add integers.\n",
    "(3*4)+5"
   ]
  },
  {
   "cell_type": "code",
   "execution_count": 22,
   "id": "26c0826b-1861-4856-aa0d-1c297e46abde",
   "metadata": {
    "tags": []
   },
   "outputs": [
    {
     "data": {
      "text/plain": [
       "3.3333333333333335"
      ]
     },
     "execution_count": 22,
     "metadata": {},
     "output_type": "execute_result"
    }
   ],
   "source": [
    "# This will convert 200 minutes to hours by diving by 60.\n",
    "200/60"
   ]
  },
  {
   "cell_type": "markdown",
   "id": "cdcbe9a1-54fe-4014-af82-95c064626141",
   "metadata": {},
   "source": [
    "## Author\n",
    "Gundu. Yaswanth Sai Ganesh"
   ]
  },
  {
   "cell_type": "code",
   "execution_count": null,
   "id": "9fbcef35-095c-4575-9b43-0f25b8797da6",
   "metadata": {},
   "outputs": [],
   "source": []
  }
 ],
 "metadata": {
  "kernelspec": {
   "display_name": "Python",
   "language": "python",
   "name": "conda-env-python-py"
  },
  "language_info": {
   "codemirror_mode": {
    "name": "ipython",
    "version": 3
   },
   "file_extension": ".py",
   "mimetype": "text/x-python",
   "name": "python",
   "nbconvert_exporter": "python",
   "pygments_lexer": "ipython3",
   "version": "3.7.12"
  }
 },
 "nbformat": 4,
 "nbformat_minor": 5
}
